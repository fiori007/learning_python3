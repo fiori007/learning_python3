{
  "nbformat": 4,
  "nbformat_minor": 0,
  "metadata": {
    "colab": {
      "name": "Continuando com Collections.ipynb",
      "provenance": [],
      "collapsed_sections": []
    },
    "kernelspec": {
      "name": "python3",
      "display_name": "Python 3"
    }
  },
  "cells": [
    {
      "cell_type": "code",
      "metadata": {
        "id": "g8ynn92e9Z3t",
        "colab_type": "code",
        "colab": {}
      },
      "source": [
        "usuarios_data_science = [15, 23, 43, 56]\n",
        "usuarios_machine_learning = [13, 23, 56, 42]"
      ],
      "execution_count": null,
      "outputs": []
    },
    {
      "cell_type": "code",
      "metadata": {
        "id": "3v7D26FN9wdt",
        "colab_type": "code",
        "colab": {
          "base_uri": "https://localhost:8080/",
          "height": 34
        },
        "outputId": "a13a6ced-8298-4c26-ee82-813bbeed499c"
      },
      "source": [
        "assistiram = usuarios_data_science.copy()\n",
        "assistiram.extend(usuarios_machine_learning)\n",
        "assistiram"
      ],
      "execution_count": null,
      "outputs": [
        {
          "output_type": "execute_result",
          "data": {
            "text/plain": [
              "[15, 23, 43, 56, 13, 23, 56, 42]"
            ]
          },
          "metadata": {
            "tags": []
          },
          "execution_count": 4
        }
      ]
    },
    {
      "cell_type": "code",
      "metadata": {
        "id": "Ym9Bxjbl-Fqj",
        "colab_type": "code",
        "colab": {
          "base_uri": "https://localhost:8080/",
          "height": 34
        },
        "outputId": "56081ee3-b951-4e4a-e558-3cc4fe95bb96"
      },
      "source": [
        "assistiram = set(assistiram)\n",
        "assistiram"
      ],
      "execution_count": null,
      "outputs": [
        {
          "output_type": "execute_result",
          "data": {
            "text/plain": [
              "{13, 15, 23, 42, 43, 56}"
            ]
          },
          "metadata": {
            "tags": []
          },
          "execution_count": 6
        }
      ]
    },
    {
      "cell_type": "code",
      "metadata": {
        "id": "VbZpJg4x-8ds",
        "colab_type": "code",
        "colab": {
          "base_uri": "https://localhost:8080/",
          "height": 34
        },
        "outputId": "f37b7ca6-d791-4334-f8e8-bd8270faf7f3"
      },
      "source": [
        "set([1, 2,3])"
      ],
      "execution_count": null,
      "outputs": [
        {
          "output_type": "execute_result",
          "data": {
            "text/plain": [
              "{1, 2, 3}"
            ]
          },
          "metadata": {
            "tags": []
          },
          "execution_count": 7
        }
      ]
    },
    {
      "cell_type": "code",
      "metadata": {
        "id": "0y6OgskC_Fsi",
        "colab_type": "code",
        "colab": {
          "base_uri": "https://localhost:8080/",
          "height": 34
        },
        "outputId": "463931b9-72df-4f62-b052-a308fa6a4fb8"
      },
      "source": [
        "set([1, 1, 1, 1, 1, 1, 2, 2, 2, 2, 2, 2, 2, 3, 4, 4, 4, 4])"
      ],
      "execution_count": null,
      "outputs": [
        {
          "output_type": "execute_result",
          "data": {
            "text/plain": [
              "{1, 2, 3, 4}"
            ]
          },
          "metadata": {
            "tags": []
          },
          "execution_count": 9
        }
      ]
    },
    {
      "cell_type": "code",
      "metadata": {
        "id": "2fpJNlnc_N4j",
        "colab_type": "code",
        "colab": {
          "base_uri": "https://localhost:8080/",
          "height": 34
        },
        "outputId": "b913a882-0fc9-4d23-9a9f-78ba78b8dd44"
      },
      "source": [
        "type({1, 2, 3, 4, 4, 5, 6, 7, 8, 8, 9, 0})"
      ],
      "execution_count": null,
      "outputs": [
        {
          "output_type": "execute_result",
          "data": {
            "text/plain": [
              "set"
            ]
          },
          "metadata": {
            "tags": []
          },
          "execution_count": 11
        }
      ]
    },
    {
      "cell_type": "code",
      "metadata": {
        "id": "eo3jWC2g_ht7",
        "colab_type": "code",
        "colab": {}
      },
      "source": [
        "usuarios_data_science = {15, 23, 43, 56}\n",
        "usuarios_machine_learning = {13, 23, 56, 42}"
      ],
      "execution_count": null,
      "outputs": []
    },
    {
      "cell_type": "code",
      "metadata": {
        "id": "yIjQ0SUVAcMO",
        "colab_type": "code",
        "colab": {
          "base_uri": "https://localhost:8080/",
          "height": 167
        },
        "outputId": "7f6af127-4b2d-48b9-f08d-d2519c44822c"
      },
      "source": [
        "usuarios_data_science[0]"
      ],
      "execution_count": null,
      "outputs": [
        {
          "output_type": "error",
          "ename": "TypeError",
          "evalue": "ignored",
          "traceback": [
            "\u001b[0;31m---------------------------------------------------------------------------\u001b[0m",
            "\u001b[0;31mTypeError\u001b[0m                                 Traceback (most recent call last)",
            "\u001b[0;32m<ipython-input-13-336a522044c4>\u001b[0m in \u001b[0;36m<module>\u001b[0;34m()\u001b[0m\n\u001b[0;32m----> 1\u001b[0;31m \u001b[0musuarios_data_science\u001b[0m\u001b[0;34m[\u001b[0m\u001b[0;36m0\u001b[0m\u001b[0;34m]\u001b[0m\u001b[0;34m\u001b[0m\u001b[0;34m\u001b[0m\u001b[0m\n\u001b[0m",
            "\u001b[0;31mTypeError\u001b[0m: 'set' object does not support indexing"
          ]
        }
      ]
    },
    {
      "cell_type": "code",
      "metadata": {
        "id": "yQWxZVxUAfOY",
        "colab_type": "code",
        "colab": {
          "base_uri": "https://localhost:8080/",
          "height": 121
        },
        "outputId": "43cc5dde-c715-4c31-ed5e-9f448b656e20"
      },
      "source": [
        "for usuario in assistiram:\n",
        "  print(usuario)"
      ],
      "execution_count": null,
      "outputs": [
        {
          "output_type": "stream",
          "text": [
            "23\n",
            "56\n",
            "42\n",
            "43\n",
            "13\n",
            "15\n"
          ],
          "name": "stdout"
        }
      ]
    },
    {
      "cell_type": "code",
      "metadata": {
        "id": "R39S_ZgNAjOn",
        "colab_type": "code",
        "colab": {
          "base_uri": "https://localhost:8080/",
          "height": 34
        },
        "outputId": "c60c8e6e-7c48-4a98-e6a3-4d7283b3eafb"
      },
      "source": [
        "usuarios_data_science | usuarios_machine_learning"
      ],
      "execution_count": null,
      "outputs": [
        {
          "output_type": "execute_result",
          "data": {
            "text/plain": [
              "{13, 15, 23, 42, 43, 56}"
            ]
          },
          "metadata": {
            "tags": []
          },
          "execution_count": 16
        }
      ]
    },
    {
      "cell_type": "code",
      "metadata": {
        "id": "4HaJLRWSAxgU",
        "colab_type": "code",
        "colab": {
          "base_uri": "https://localhost:8080/",
          "height": 34
        },
        "outputId": "1113102d-b9f4-4b56-ca0c-2358c48452c9"
      },
      "source": [
        "usuarios_data_science & usuarios_machine_learning"
      ],
      "execution_count": null,
      "outputs": [
        {
          "output_type": "execute_result",
          "data": {
            "text/plain": [
              "{23, 56}"
            ]
          },
          "metadata": {
            "tags": []
          },
          "execution_count": 17
        }
      ]
    },
    {
      "cell_type": "code",
      "metadata": {
        "id": "wYvj849MB7v3",
        "colab_type": "code",
        "colab": {
          "base_uri": "https://localhost:8080/",
          "height": 34
        },
        "outputId": "a68e82d0-9913-4399-9cf8-8036bc14df2e"
      },
      "source": [
        "usuarios_data_science - usuarios_machine_learning"
      ],
      "execution_count": null,
      "outputs": [
        {
          "output_type": "execute_result",
          "data": {
            "text/plain": [
              "{15, 43}"
            ]
          },
          "metadata": {
            "tags": []
          },
          "execution_count": 18
        }
      ]
    },
    {
      "cell_type": "code",
      "metadata": {
        "id": "wpx4NfjtCXXW",
        "colab_type": "code",
        "colab": {
          "base_uri": "https://localhost:8080/",
          "height": 34
        },
        "outputId": "1dfcfd30-55e0-4ec0-d53b-eb068dd43971"
      },
      "source": [
        "fez_data_science_e_nao_fez_machine_learning = usuarios_data_science - usuarios_machine_learning\n",
        "23 in fez_data_science_e_nao_fez_machine_learning"
      ],
      "execution_count": null,
      "outputs": [
        {
          "output_type": "execute_result",
          "data": {
            "text/plain": [
              "False"
            ]
          },
          "metadata": {
            "tags": []
          },
          "execution_count": 19
        }
      ]
    },
    {
      "cell_type": "code",
      "metadata": {
        "id": "-N2MW_mACz8_",
        "colab_type": "code",
        "colab": {
          "base_uri": "https://localhost:8080/",
          "height": 34
        },
        "outputId": "306de7e2-c45c-4c91-c79c-00eaeaada944"
      },
      "source": [
        "15 in fez_data_science_e_nao_fez_machine_learning"
      ],
      "execution_count": null,
      "outputs": [
        {
          "output_type": "execute_result",
          "data": {
            "text/plain": [
              "True"
            ]
          },
          "metadata": {
            "tags": []
          },
          "execution_count": 20
        }
      ]
    },
    {
      "cell_type": "code",
      "metadata": {
        "id": "3CjA3d6pC22m",
        "colab_type": "code",
        "colab": {
          "base_uri": "https://localhost:8080/",
          "height": 34
        },
        "outputId": "4bb85025-6588-45be-b0ec-c0f4372c142f"
      },
      "source": [
        "usuarios_data_science ^ usuarios_machine_learning"
      ],
      "execution_count": null,
      "outputs": [
        {
          "output_type": "execute_result",
          "data": {
            "text/plain": [
              "{13, 15, 42, 43}"
            ]
          },
          "metadata": {
            "tags": []
          },
          "execution_count": 21
        }
      ]
    },
    {
      "cell_type": "code",
      "metadata": {
        "id": "olcZeJViDDRA",
        "colab_type": "code",
        "colab": {
          "base_uri": "https://localhost:8080/",
          "height": 34
        },
        "outputId": "c4ab07c8-8407-46dc-ac73-5e62ff034d70"
      },
      "source": [
        "usuarios = {1, 5, 76, 34, 52, 13, 17}\n",
        "len(usuarios)"
      ],
      "execution_count": null,
      "outputs": [
        {
          "output_type": "execute_result",
          "data": {
            "text/plain": [
              "7"
            ]
          },
          "metadata": {
            "tags": []
          },
          "execution_count": 22
        }
      ]
    },
    {
      "cell_type": "code",
      "metadata": {
        "id": "ya-CY2DhOhJT",
        "colab_type": "code",
        "colab": {
          "base_uri": "https://localhost:8080/",
          "height": 34
        },
        "outputId": "3da490f6-1f78-40a2-ab4b-db3a7655f0ca"
      },
      "source": [
        "usuarios.add(13)\n",
        "len(usuarios)"
      ],
      "execution_count": null,
      "outputs": [
        {
          "output_type": "execute_result",
          "data": {
            "text/plain": [
              "7"
            ]
          },
          "metadata": {
            "tags": []
          },
          "execution_count": 24
        }
      ]
    },
    {
      "cell_type": "code",
      "metadata": {
        "id": "ITXXpt2oO0W-",
        "colab_type": "code",
        "colab": {
          "base_uri": "https://localhost:8080/",
          "height": 34
        },
        "outputId": "b40c3eff-b6dd-4ee3-f2f6-efede5fdc895"
      },
      "source": [
        "usuarios.add(765)\n",
        "len(usuarios)"
      ],
      "execution_count": null,
      "outputs": [
        {
          "output_type": "execute_result",
          "data": {
            "text/plain": [
              "8"
            ]
          },
          "metadata": {
            "tags": []
          },
          "execution_count": 25
        }
      ]
    },
    {
      "cell_type": "code",
      "metadata": {
        "id": "yXvBL_OlPHZz",
        "colab_type": "code",
        "colab": {
          "base_uri": "https://localhost:8080/",
          "height": 34
        },
        "outputId": "cf78fb52-9603-4062-c5b5-0d25212981ba"
      },
      "source": [
        "usuarios"
      ],
      "execution_count": null,
      "outputs": [
        {
          "output_type": "execute_result",
          "data": {
            "text/plain": [
              "{1, 5, 13, 17, 34, 52, 76, 765}"
            ]
          },
          "metadata": {
            "tags": []
          },
          "execution_count": 26
        }
      ]
    },
    {
      "cell_type": "code",
      "metadata": {
        "id": "cp41NgX9PIvK",
        "colab_type": "code",
        "colab": {
          "base_uri": "https://localhost:8080/",
          "height": 34
        },
        "outputId": "87799047-0df1-41d4-e245-7d6010f53502"
      },
      "source": [
        "usuarios = frozenset(usuarios)\n",
        "usuarios"
      ],
      "execution_count": null,
      "outputs": [
        {
          "output_type": "execute_result",
          "data": {
            "text/plain": [
              "frozenset({1, 5, 13, 17, 34, 52, 76, 765})"
            ]
          },
          "metadata": {
            "tags": []
          },
          "execution_count": 27
        }
      ]
    },
    {
      "cell_type": "code",
      "metadata": {
        "id": "28c7crL0PXPo",
        "colab_type": "code",
        "colab": {
          "base_uri": "https://localhost:8080/",
          "height": 167
        },
        "outputId": "1c45570a-b559-473a-c03f-4229812f09e6"
      },
      "source": [
        "usuarios.add(134)"
      ],
      "execution_count": null,
      "outputs": [
        {
          "output_type": "error",
          "ename": "AttributeError",
          "evalue": "ignored",
          "traceback": [
            "\u001b[0;31m---------------------------------------------------------------------------\u001b[0m",
            "\u001b[0;31mAttributeError\u001b[0m                            Traceback (most recent call last)",
            "\u001b[0;32m<ipython-input-28-f85b988f2472>\u001b[0m in \u001b[0;36m<module>\u001b[0;34m()\u001b[0m\n\u001b[0;32m----> 1\u001b[0;31m \u001b[0musuarios\u001b[0m\u001b[0;34m.\u001b[0m\u001b[0madd\u001b[0m\u001b[0;34m(\u001b[0m\u001b[0;36m134\u001b[0m\u001b[0;34m)\u001b[0m\u001b[0;34m\u001b[0m\u001b[0;34m\u001b[0m\u001b[0m\n\u001b[0m",
            "\u001b[0;31mAttributeError\u001b[0m: 'frozenset' object has no attribute 'add'"
          ]
        }
      ]
    },
    {
      "cell_type": "code",
      "metadata": {
        "id": "iXPW2J6hPcAW",
        "colab_type": "code",
        "colab": {
          "base_uri": "https://localhost:8080/",
          "height": 278
        },
        "outputId": "6b1f1f24-3172-4be2-c85e-b6bfb7582575"
      },
      "source": [
        "meu_texto = \"Bem vindo, meu nome é Henrique. Eu sei programar em Python 3. Eu gosto muito de programar\"\n",
        "set(meu_texto.split())"
      ],
      "execution_count": null,
      "outputs": [
        {
          "output_type": "execute_result",
          "data": {
            "text/plain": [
              "{'3.',\n",
              " 'Bem',\n",
              " 'Eu',\n",
              " 'Henrique.',\n",
              " 'Python',\n",
              " 'de',\n",
              " 'em',\n",
              " 'gosto',\n",
              " 'meu',\n",
              " 'muito',\n",
              " 'nome',\n",
              " 'programar',\n",
              " 'sei',\n",
              " 'vindo,',\n",
              " 'é'}"
            ]
          },
          "metadata": {
            "tags": []
          },
          "execution_count": 34
        }
      ]
    },
    {
      "cell_type": "markdown",
      "metadata": {
        "id": "AI1wa40URHsi",
        "colab_type": "text"
      },
      "source": [
        "# Dicionário (Mapa)"
      ]
    },
    {
      "cell_type": "code",
      "metadata": {
        "id": "3t5FwJJRQ3so",
        "colab_type": "code",
        "colab": {}
      },
      "source": [
        "palavras = {\"3.\": 1,\n",
        " \"Bem\": 2,\n",
        " \"Eu\": 3,\n",
        " \"Henrique.\": 4,\n",
        " \"Python\": 5,\n",
        " \"de\": 6,\n",
        " \"em\": 7,\n",
        " \"gosto\": 8,\n",
        " \"meu\": 9,\n",
        " \"muito\": 10,\n",
        " \"nome\": 11,\n",
        " \"programar\": 12,\n",
        " \"sei\": 13,\n",
        " \"vindo,\": 14,\n",
        " \"é\": 15}"
      ],
      "execution_count": null,
      "outputs": []
    },
    {
      "cell_type": "code",
      "metadata": {
        "id": "s6RW1Ls2R4pw",
        "colab_type": "code",
        "colab": {
          "base_uri": "https://localhost:8080/",
          "height": 167
        },
        "outputId": "0858f891-19ed-4551-ab11-13ea47c5adaf"
      },
      "source": [
        "palavras[\"oi\"]"
      ],
      "execution_count": null,
      "outputs": [
        {
          "output_type": "error",
          "ename": "KeyError",
          "evalue": "ignored",
          "traceback": [
            "\u001b[0;31m---------------------------------------------------------------------------\u001b[0m",
            "\u001b[0;31mKeyError\u001b[0m                                  Traceback (most recent call last)",
            "\u001b[0;32m<ipython-input-39-45f1628d4063>\u001b[0m in \u001b[0;36m<module>\u001b[0;34m()\u001b[0m\n\u001b[0;32m----> 1\u001b[0;31m \u001b[0mpalavras\u001b[0m\u001b[0;34m[\u001b[0m\u001b[0;34m\"oi\"\u001b[0m\u001b[0;34m]\u001b[0m\u001b[0;34m\u001b[0m\u001b[0;34m\u001b[0m\u001b[0m\n\u001b[0m",
            "\u001b[0;31mKeyError\u001b[0m: 'oi'"
          ]
        }
      ]
    },
    {
      "cell_type": "code",
      "metadata": {
        "id": "382zg32QSZS_",
        "colab_type": "code",
        "colab": {
          "base_uri": "https://localhost:8080/",
          "height": 167
        },
        "outputId": "6129dea9-9162-4ad8-9571-9a86e647dd2e"
      },
      "source": [
        "palavras[\"Henrique\"]"
      ],
      "execution_count": null,
      "outputs": [
        {
          "output_type": "error",
          "ename": "KeyError",
          "evalue": "ignored",
          "traceback": [
            "\u001b[0;31m---------------------------------------------------------------------------\u001b[0m",
            "\u001b[0;31mKeyError\u001b[0m                                  Traceback (most recent call last)",
            "\u001b[0;32m<ipython-input-40-4683a22bc374>\u001b[0m in \u001b[0;36m<module>\u001b[0;34m()\u001b[0m\n\u001b[0;32m----> 1\u001b[0;31m \u001b[0mpalavras\u001b[0m\u001b[0;34m[\u001b[0m\u001b[0;34m\"Henrique\"\u001b[0m\u001b[0;34m]\u001b[0m\u001b[0;34m\u001b[0m\u001b[0;34m\u001b[0m\u001b[0m\n\u001b[0m",
            "\u001b[0;31mKeyError\u001b[0m: 'Henrique'"
          ]
        }
      ]
    },
    {
      "cell_type": "code",
      "metadata": {
        "id": "0XluWQ7DSdDS",
        "colab_type": "code",
        "colab": {
          "base_uri": "https://localhost:8080/",
          "height": 34
        },
        "outputId": "bfc50463-5202-4eab-bc34-cc169723d961"
      },
      "source": [
        "palavras[\"Henrique.\"]"
      ],
      "execution_count": null,
      "outputs": [
        {
          "output_type": "execute_result",
          "data": {
            "text/plain": [
              "4"
            ]
          },
          "metadata": {
            "tags": []
          },
          "execution_count": 41
        }
      ]
    },
    {
      "cell_type": "code",
      "metadata": {
        "id": "CHQtWI20SfU6",
        "colab_type": "code",
        "colab": {
          "base_uri": "https://localhost:8080/",
          "height": 34
        },
        "outputId": "b4893e2b-5656-416f-c60d-2453d3a26957"
      },
      "source": [
        "palavras[\"programar\"]"
      ],
      "execution_count": null,
      "outputs": [
        {
          "output_type": "execute_result",
          "data": {
            "text/plain": [
              "12"
            ]
          },
          "metadata": {
            "tags": []
          },
          "execution_count": 42
        }
      ]
    },
    {
      "cell_type": "code",
      "metadata": {
        "id": "Znbvb6G6SixH",
        "colab_type": "code",
        "colab": {
          "base_uri": "https://localhost:8080/",
          "height": 34
        },
        "outputId": "ade1513f-6d70-4ccd-e0ff-a8d7e2ed2a1d"
      },
      "source": [
        "palavras.get(\"Henrique\", -1)"
      ],
      "execution_count": null,
      "outputs": [
        {
          "output_type": "execute_result",
          "data": {
            "text/plain": [
              "-1"
            ]
          },
          "metadata": {
            "tags": []
          },
          "execution_count": 43
        }
      ]
    },
    {
      "cell_type": "code",
      "metadata": {
        "id": "J6wnuCfMSoNj",
        "colab_type": "code",
        "colab": {}
      },
      "source": [
        "palavras = dict(Henrique = 0, Python = 1, Programar = 2)"
      ],
      "execution_count": null,
      "outputs": []
    },
    {
      "cell_type": "code",
      "metadata": {
        "id": "njBhgBEwS4Fz",
        "colab_type": "code",
        "colab": {
          "base_uri": "https://localhost:8080/",
          "height": 34
        },
        "outputId": "045b86e2-95ba-4136-889b-5ea13b30f548"
      },
      "source": [
        "palavras"
      ],
      "execution_count": null,
      "outputs": [
        {
          "output_type": "execute_result",
          "data": {
            "text/plain": [
              "{'Henrique': 0, 'Programar': 2, 'Python': 1}"
            ]
          },
          "metadata": {
            "tags": []
          },
          "execution_count": 46
        }
      ]
    },
    {
      "cell_type": "code",
      "metadata": {
        "id": "ijH5LtQ3S50O",
        "colab_type": "code",
        "colab": {}
      },
      "source": [
        "palavras = {\"3.\": 1,\n",
        " \"Bem\": 2,\n",
        " \"Eu\": 3,\n",
        " \"Henrique.\": 4,\n",
        " \"Python\": 5,\n",
        " \"de\": 6,\n",
        " \"em\": 7,\n",
        " \"gosto\": 8,\n",
        " \"meu\": 9,\n",
        " \"muito\": 10,\n",
        " \"nome\": 11,\n",
        " \"programar\": 12,\n",
        " \"sei\": 13,\n",
        " \"vindo,\": 14,\n",
        " \"é\": 15}"
      ],
      "execution_count": null,
      "outputs": []
    },
    {
      "cell_type": "code",
      "metadata": {
        "id": "pbW7UmaLTCBj",
        "colab_type": "code",
        "colab": {}
      },
      "source": [
        "palavras[\"Java\"]=16"
      ],
      "execution_count": null,
      "outputs": []
    },
    {
      "cell_type": "code",
      "metadata": {
        "id": "8pFO7efUTX6s",
        "colab_type": "code",
        "colab": {
          "base_uri": "https://localhost:8080/",
          "height": 34
        },
        "outputId": "c705dc07-5644-42a1-e3f3-4a835d6e7099"
      },
      "source": [
        "palavras[\"Java\"]"
      ],
      "execution_count": null,
      "outputs": [
        {
          "output_type": "execute_result",
          "data": {
            "text/plain": [
              "16"
            ]
          },
          "metadata": {
            "tags": []
          },
          "execution_count": 49
        }
      ]
    },
    {
      "cell_type": "code",
      "metadata": {
        "id": "ePkkZ93LTaFh",
        "colab_type": "code",
        "colab": {}
      },
      "source": [
        "del palavras[\"é\"]"
      ],
      "execution_count": null,
      "outputs": []
    },
    {
      "cell_type": "code",
      "metadata": {
        "id": "BAApV23NTgH0",
        "colab_type": "code",
        "colab": {
          "base_uri": "https://localhost:8080/",
          "height": 34
        },
        "outputId": "9576d1b4-5055-42c4-88cf-8dc5161487ce"
      },
      "source": [
        "\"é\" in palavras"
      ],
      "execution_count": null,
      "outputs": [
        {
          "output_type": "execute_result",
          "data": {
            "text/plain": [
              "False"
            ]
          },
          "metadata": {
            "tags": []
          },
          "execution_count": 51
        }
      ]
    },
    {
      "cell_type": "code",
      "metadata": {
        "id": "PfXRKJrVTmaY",
        "colab_type": "code",
        "colab": {
          "base_uri": "https://localhost:8080/",
          "height": 34
        },
        "outputId": "a5726b8b-1ea9-4589-dc41-5eba2a1a0ef0"
      },
      "source": [
        "\"Python\" in palavras"
      ],
      "execution_count": null,
      "outputs": [
        {
          "output_type": "execute_result",
          "data": {
            "text/plain": [
              "True"
            ]
          },
          "metadata": {
            "tags": []
          },
          "execution_count": 52
        }
      ]
    },
    {
      "cell_type": "code",
      "metadata": {
        "id": "iXLxZ4sCTpwt",
        "colab_type": "code",
        "colab": {
          "base_uri": "https://localhost:8080/",
          "height": 278
        },
        "outputId": "91ce3508-6e94-4826-b499-5475894cd257"
      },
      "source": [
        "for elemento in palavras:\n",
        "  print(elemento)"
      ],
      "execution_count": null,
      "outputs": [
        {
          "output_type": "stream",
          "text": [
            "3.\n",
            "Bem\n",
            "Eu\n",
            "Henrique.\n",
            "Python\n",
            "de\n",
            "em\n",
            "gosto\n",
            "meu\n",
            "muito\n",
            "nome\n",
            "programar\n",
            "sei\n",
            "vindo,\n",
            "Java\n"
          ],
          "name": "stdout"
        }
      ]
    },
    {
      "cell_type": "code",
      "metadata": {
        "id": "pcbQwQm7Tv9A",
        "colab_type": "code",
        "colab": {
          "base_uri": "https://localhost:8080/",
          "height": 278
        },
        "outputId": "7a27e007-0eb1-4721-d8c1-2500ef5e8bea"
      },
      "source": [
        "for elemento in palavras.values():\n",
        "  print(elemento)"
      ],
      "execution_count": null,
      "outputs": [
        {
          "output_type": "stream",
          "text": [
            "1\n",
            "2\n",
            "3\n",
            "4\n",
            "5\n",
            "6\n",
            "7\n",
            "8\n",
            "9\n",
            "10\n",
            "11\n",
            "12\n",
            "13\n",
            "14\n",
            "16\n"
          ],
          "name": "stdout"
        }
      ]
    },
    {
      "cell_type": "code",
      "metadata": {
        "id": "XjOS4mP9UBUw",
        "colab_type": "code",
        "colab": {
          "base_uri": "https://localhost:8080/",
          "height": 34
        },
        "outputId": "71344148-ffe7-450d-db9d-a742923180c5"
      },
      "source": [
        "1 in palavras.values()"
      ],
      "execution_count": null,
      "outputs": [
        {
          "output_type": "execute_result",
          "data": {
            "text/plain": [
              "True"
            ]
          },
          "metadata": {
            "tags": []
          },
          "execution_count": 57
        }
      ]
    },
    {
      "cell_type": "code",
      "metadata": {
        "id": "X-BUcYswUOBE",
        "colab_type": "code",
        "colab": {
          "base_uri": "https://localhost:8080/",
          "height": 278
        },
        "outputId": "1f8e92f5-72b4-43cf-dfba-290321fb0503"
      },
      "source": [
        "for elemento in palavras.keys():\n",
        "  print(elemento, palavras[elemento])"
      ],
      "execution_count": null,
      "outputs": [
        {
          "output_type": "stream",
          "text": [
            "3. 1\n",
            "Bem 2\n",
            "Eu 3\n",
            "Henrique. 4\n",
            "Python 5\n",
            "de 6\n",
            "em 7\n",
            "gosto 8\n",
            "meu 9\n",
            "muito 10\n",
            "nome 11\n",
            "programar 12\n",
            "sei 13\n",
            "vindo, 14\n",
            "Java 16\n"
          ],
          "name": "stdout"
        }
      ]
    },
    {
      "cell_type": "code",
      "metadata": {
        "id": "EVSRf8UiUW2z",
        "colab_type": "code",
        "colab": {
          "base_uri": "https://localhost:8080/",
          "height": 278
        },
        "outputId": "343478ac-399d-473d-aa81-d8cfe4ab4b2d"
      },
      "source": [
        "for elemento in palavras.items():\n",
        "  print(elemento)"
      ],
      "execution_count": null,
      "outputs": [
        {
          "output_type": "stream",
          "text": [
            "('3.', 1)\n",
            "('Bem', 2)\n",
            "('Eu', 3)\n",
            "('Henrique.', 4)\n",
            "('Python', 5)\n",
            "('de', 6)\n",
            "('em', 7)\n",
            "('gosto', 8)\n",
            "('meu', 9)\n",
            "('muito', 10)\n",
            "('nome', 11)\n",
            "('programar', 12)\n",
            "('sei', 13)\n",
            "('vindo,', 14)\n",
            "('Java', 16)\n"
          ],
          "name": "stdout"
        }
      ]
    },
    {
      "cell_type": "code",
      "metadata": {
        "id": "SSJoMMvmUaiQ",
        "colab_type": "code",
        "colab": {
          "base_uri": "https://localhost:8080/",
          "height": 278
        },
        "outputId": "5cce5f2a-933f-4973-acb5-2f7663891e58"
      },
      "source": [
        "for chave, valor in palavras.items():\n",
        "  print(chave, valor)"
      ],
      "execution_count": null,
      "outputs": [
        {
          "output_type": "stream",
          "text": [
            "3. 1\n",
            "Bem 2\n",
            "Eu 3\n",
            "Henrique. 4\n",
            "Python 5\n",
            "de 6\n",
            "em 7\n",
            "gosto 8\n",
            "meu 9\n",
            "muito 10\n",
            "nome 11\n",
            "programar 12\n",
            "sei 13\n",
            "vindo, 14\n",
            "Java 16\n"
          ],
          "name": "stdout"
        }
      ]
    },
    {
      "cell_type": "code",
      "metadata": {
        "id": "5bEttkxIUwA3",
        "colab_type": "code",
        "colab": {
          "base_uri": "https://localhost:8080/",
          "height": 278
        },
        "outputId": "db2132ce-efcc-43cb-e8a7-7494f7d004f2"
      },
      "source": [
        "[\"palavra {}\".format(chave) for chave in palavras.keys()]"
      ],
      "execution_count": null,
      "outputs": [
        {
          "output_type": "execute_result",
          "data": {
            "text/plain": [
              "['palavra 3.',\n",
              " 'palavra Bem',\n",
              " 'palavra Eu',\n",
              " 'palavra Henrique.',\n",
              " 'palavra Python',\n",
              " 'palavra de',\n",
              " 'palavra em',\n",
              " 'palavra gosto',\n",
              " 'palavra meu',\n",
              " 'palavra muito',\n",
              " 'palavra nome',\n",
              " 'palavra programar',\n",
              " 'palavra sei',\n",
              " 'palavra vindo,',\n",
              " 'palavra Java']"
            ]
          },
          "metadata": {
            "tags": []
          },
          "execution_count": 62
        }
      ]
    },
    {
      "cell_type": "code",
      "metadata": {
        "id": "TiGvCfJXVRkN",
        "colab_type": "code",
        "colab": {
          "base_uri": "https://localhost:8080/",
          "height": 278
        },
        "outputId": "010d583b-f0c1-4383-9bd1-7ba95395672e"
      },
      "source": [
        "meu_texto = \"Bem vindo, meu nome é Henrique. Eu sei programar em Python 3. Eu gosto muito de programar\"\n",
        "meu_texto = meu_texto.lower()\n",
        "\n",
        "aparicoes = {}\n",
        "\n",
        "for palavra in meu_texto.split():\n",
        "  aparicoes[palavra] = aparicoes.get(palavra, 0) + 1\n",
        "  \n",
        "aparicoes"
      ],
      "execution_count": null,
      "outputs": [
        {
          "output_type": "execute_result",
          "data": {
            "text/plain": [
              "{'3.': 1,\n",
              " 'bem': 1,\n",
              " 'de': 1,\n",
              " 'em': 1,\n",
              " 'eu': 2,\n",
              " 'gosto': 1,\n",
              " 'henrique.': 1,\n",
              " 'meu': 1,\n",
              " 'muito': 1,\n",
              " 'nome': 1,\n",
              " 'programar': 2,\n",
              " 'python': 1,\n",
              " 'sei': 1,\n",
              " 'vindo,': 1,\n",
              " 'é': 1}"
            ]
          },
          "metadata": {
            "tags": []
          },
          "execution_count": 2
        }
      ]
    },
    {
      "cell_type": "code",
      "metadata": {
        "id": "lrcrz_lbDxdJ",
        "colab_type": "code",
        "colab": {
          "base_uri": "https://localhost:8080/",
          "height": 295
        },
        "outputId": "d07f03a4-9e6b-4bc1-db66-3358c2f2f530"
      },
      "source": [
        "from collections import defaultdict\n",
        "\n",
        "aparicoes = defaultdict(int)\n",
        "\n",
        "for palavra in meu_texto.split():\n",
        "  aparicoes[palavra] = aparicoes[palavra] + 1\n",
        "  \n",
        "aparicoes"
      ],
      "execution_count": null,
      "outputs": [
        {
          "output_type": "execute_result",
          "data": {
            "text/plain": [
              "defaultdict(int,\n",
              "            {'3.': 1,\n",
              "             'bem': 1,\n",
              "             'de': 1,\n",
              "             'em': 1,\n",
              "             'eu': 2,\n",
              "             'gosto': 1,\n",
              "             'henrique.': 1,\n",
              "             'meu': 1,\n",
              "             'muito': 1,\n",
              "             'nome': 1,\n",
              "             'programar': 2,\n",
              "             'python': 1,\n",
              "             'sei': 1,\n",
              "             'vindo,': 1,\n",
              "             'é': 1})"
            ]
          },
          "metadata": {
            "tags": []
          },
          "execution_count": 3
        }
      ]
    },
    {
      "cell_type": "code",
      "metadata": {
        "id": "NWVLFhCoHcjV",
        "colab_type": "code",
        "colab": {
          "base_uri": "https://localhost:8080/",
          "height": 295
        },
        "outputId": "5cfd3a07-8b75-49da-97ae-5bbea5a2229f"
      },
      "source": [
        "from collections import defaultdict\n",
        "\n",
        "aparicoes = defaultdict(int)\n",
        "\n",
        "for palavra in meu_texto.split():\n",
        "  aparicoes[palavra] +=  1\n",
        "  \n",
        "aparicoes"
      ],
      "execution_count": null,
      "outputs": [
        {
          "output_type": "execute_result",
          "data": {
            "text/plain": [
              "defaultdict(int,\n",
              "            {'3.': 1,\n",
              "             'bem': 1,\n",
              "             'de': 1,\n",
              "             'em': 1,\n",
              "             'eu': 2,\n",
              "             'gosto': 1,\n",
              "             'henrique.': 1,\n",
              "             'meu': 1,\n",
              "             'muito': 1,\n",
              "             'nome': 1,\n",
              "             'programar': 2,\n",
              "             'python': 1,\n",
              "             'sei': 1,\n",
              "             'vindo,': 1,\n",
              "             'é': 1})"
            ]
          },
          "metadata": {
            "tags": []
          },
          "execution_count": 4
        }
      ]
    },
    {
      "cell_type": "code",
      "metadata": {
        "id": "1GmtppSEH3gB",
        "colab_type": "code",
        "colab": {}
      },
      "source": [
        "class Conta:\n",
        "  def __init__(self):\n",
        "    print(\"Criando uma conta nova\")"
      ],
      "execution_count": null,
      "outputs": []
    },
    {
      "cell_type": "code",
      "metadata": {
        "id": "AmTmst7FIFD3",
        "colab_type": "code",
        "colab": {
          "base_uri": "https://localhost:8080/",
          "height": 52
        },
        "outputId": "e4a465d0-c555-44c2-a71d-aa605b05796d"
      },
      "source": [
        "contas = defaultdict(Conta)\n",
        "contas[15]"
      ],
      "execution_count": null,
      "outputs": [
        {
          "output_type": "stream",
          "text": [
            "Criando uma conta nova\n"
          ],
          "name": "stdout"
        },
        {
          "output_type": "execute_result",
          "data": {
            "text/plain": [
              "<__main__.Conta at 0x7f84c48d3e80>"
            ]
          },
          "metadata": {
            "tags": []
          },
          "execution_count": 9
        }
      ]
    },
    {
      "cell_type": "code",
      "metadata": {
        "id": "EJjuYmUNIIMW",
        "colab_type": "code",
        "colab": {
          "base_uri": "https://localhost:8080/",
          "height": 52
        },
        "outputId": "ff851a76-f884-4eee-f7e4-2363dd657ffc"
      },
      "source": [
        "contas[17]"
      ],
      "execution_count": null,
      "outputs": [
        {
          "output_type": "stream",
          "text": [
            "Criando uma conta nova\n"
          ],
          "name": "stdout"
        },
        {
          "output_type": "execute_result",
          "data": {
            "text/plain": [
              "<__main__.Conta at 0x7f84c48c92e8>"
            ]
          },
          "metadata": {
            "tags": []
          },
          "execution_count": 10
        }
      ]
    },
    {
      "cell_type": "code",
      "metadata": {
        "id": "yZM91qKtIPJd",
        "colab_type": "code",
        "colab": {
          "base_uri": "https://localhost:8080/",
          "height": 34
        },
        "outputId": "2491052f-c5de-45f3-c54b-93d79e31f9fc"
      },
      "source": [
        "contas[15]"
      ],
      "execution_count": null,
      "outputs": [
        {
          "output_type": "execute_result",
          "data": {
            "text/plain": [
              "<__main__.Conta at 0x7f84c48d3e80>"
            ]
          },
          "metadata": {
            "tags": []
          },
          "execution_count": 11
        }
      ]
    },
    {
      "cell_type": "code",
      "metadata": {
        "id": "noHnDr7-IQMz",
        "colab_type": "code",
        "colab": {
          "base_uri": "https://localhost:8080/",
          "height": 278
        },
        "outputId": "06ed43b2-c019-4e64-ff2d-58ed6e96f214"
      },
      "source": [
        "from collections import Counter\n",
        "\n",
        "aparicoes = Counter(meu_texto.split())\n",
        "aparicoes"
      ],
      "execution_count": null,
      "outputs": [
        {
          "output_type": "execute_result",
          "data": {
            "text/plain": [
              "Counter({'3.': 1,\n",
              "         'bem': 1,\n",
              "         'de': 1,\n",
              "         'em': 1,\n",
              "         'eu': 2,\n",
              "         'gosto': 1,\n",
              "         'henrique.': 1,\n",
              "         'meu': 1,\n",
              "         'muito': 1,\n",
              "         'nome': 1,\n",
              "         'programar': 2,\n",
              "         'python': 1,\n",
              "         'sei': 1,\n",
              "         'vindo,': 1,\n",
              "         'é': 1})"
            ]
          },
          "metadata": {
            "tags": []
          },
          "execution_count": 13
        }
      ]
    },
    {
      "cell_type": "markdown",
      "metadata": {
        "id": "WS71E5LOu19E",
        "colab_type": "text"
      },
      "source": [
        "# Testando o uso de diversas coleções"
      ]
    },
    {
      "cell_type": "code",
      "metadata": {
        "id": "wKnUmVJEIvap",
        "colab_type": "code",
        "colab": {}
      },
      "source": [
        "texto0 = \"\"\"\n",
        "O que é JSON?\n",
        "Gabriel Leite\n",
        "Gabriel Leite\n",
        "30 de Julho\n",
        "Formação Certificação C# Programming\n",
        "\n",
        "Imagine que você precise desenvolver a funcionalidade de pagamento de faturas para uma nova fintech com o objetivo de fazer com que o tráfego de dados fosse o mínimo possível para que tudo continuasse funcionando bem mesmo em redes mais lentas ou com largura de banda menor.\n",
        "O que é JSON?\n",
        "\n",
        "O formato JSON (JavaScript Object Notation) é, como o nome sugere, uma forma de notação de objetos JavaScript de modo que eles possam ser representados de uma forma comum a diversas linguagens.\n",
        "\n",
        "Além disso, uma ideia que está fortemente enraizada neste formato é que ele seja facilmente trafegado entre aplicações em quaisquer protocolos, inclusive o HTTP. Portanto, a principal diferença entre um objeto JavaScript padrão e um JSON é o fato do JSON ser na realidade: um texto.\n",
        "Regras de utilização\n",
        "\n",
        "Um JSON deve conter apenas informações que possam ser representadas em formato de texto. Listei algumas regras:\n",
        "\n",
        "    Não pode ter funções;\n",
        "    Não pode ter comentários;\n",
        "    Todo texto sempre tem aspas duplas;\n",
        "    As propriedades sempre tem aspas duplas.\n",
        "\n",
        "Desta forma, imagine o envio do pagamento de uma nova fatura com o nome do cliente, um identificador numérico qualquer do cliente e uma lista de pagamentos a serem feitos na fatura em questão. Tais informações teriam, em JSON, o seguinte formato:\n",
        "\n",
        "Embora se assemelhe com um objeto JavaScript literal, o JSON apresentado segue exatamente todas as regras que citei anteriormente. Além disso, é um formato muito mais simples e menos burocrático do que o mundialmente famoso XML que durante muito tempo foi utilizado como padrão para envio de informações entre aplicações.\n",
        "\n",
        "Como você está usando JavaScript, Java e PHP nas aplicações em que estão envolvidos, trouxe um pequeno exemplo nestas linguagens:\n",
        "\n",
        "Com isso, você vai conseguir trafegar as informações que precisa atendendo aos requisitos que levantamos no início deste artigo.\n",
        "\n",
        "Ainda há uma questão que vocês nem mesmo perceberam! O que acontecerá quando persistir em suas aplicações o nome de uma cliente que, porventura, se chame, digamos, Joana D'arc? Você não sabe? Fique atento(a)! No próximo artigo vou mostrar a você o que este simples nome pode gerar!\n",
        "Saiba mais na Alura\n",
        "\n",
        "Gostou e se interessou por este conteúdo? Aqui na Alura temos cursos na área de programação em C# para você!.\n",
        "\"\"\""
      ],
      "execution_count": 2,
      "outputs": []
    },
    {
      "cell_type": "code",
      "metadata": {
        "id": "pXRjXVSKvhhn",
        "colab_type": "code",
        "colab": {}
      },
      "source": [
        "texto1 = \"\"\"\n",
        "5 passos para uma comunicação mais assertiva\n",
        "Jennifer Koppe\n",
        "Jennifer Koppe\n",
        "5 dias atrás\n",
        "Formação Comunicação\n",
        "\n",
        "Interagir de maneira segura e clara evita conflitos e mal-entendidos na vida pessoal e profissional\n",
        "\n",
        "imagem de duas mulheres conversando numa mesa de escritório com um computador aberto\n",
        "\n",
        "Uma postura mais assertiva é extremamente importante para evitar falhas de comunicação não só no ambiente de trabalho mas também nas relações interpessoais como um todo. Informações cruzadas e mal-entendidos constantes podem resultar em crises de imagem e muito desgaste; no mundo corporativo, o \"telefone sem fio\" pode ter consequências graves.\n",
        "\n",
        "Assertividade não é sinônimo de agressividade. Para ser assertivo, é necessário saber ouvir, ter clareza e, principalmente, empatia. Somente assim pode-se evitar conflitos e garantir um ambiente adequado de escuta e troca de ideias.\n",
        "\n",
        "Para encontrar a assertividade que existe em todos nós, é necessário muito autoconhecimento. O processo nem sempre é rápido, mas é muito gratificante. Para ajudar nessa busca, confira cinco maneiras de se comunicar de maneira mais segura e eficaz.\n",
        "1. Domine o assunto\n",
        "\n",
        "imagem de duas pessoas em frente a um quadro branco, a mulher está com o computador na mão e escrevendo, enquanto o homem a observa\n",
        "Preparar-se antes de falar é fundamental para garantir uma comunicação assertiva. (Fonte: Unsplash)\n",
        "\n",
        "Se você precisa falar sobre um tema específico, prepare-se, estude, pesquise a fundo e sempre tenha bons argumentos para defender o seu ponto de vista. Se não puder responder a alguma pergunta, seja sincero e diga que buscará a resposta.\n",
        "\n",
        "Quando estiver mediando algum conflito, procure entender as motivações de quem está envolvido e conheça todos os lados da história antes de tirar qualquer conclusão.\n",
        "2. Saiba ouvir\n",
        "\n",
        "Respeite a opinião dos demais. Por mais que você não concorde com algo, ouça o que a pessoa tem a dizer antes de se manifestar. Faça perguntas, demonstre interesse, procure compreender bem o que o outro quer dizer. Muitas vezes, é possível resolver uma situação conflituosa por meio da escuta ativa, já que algumas pessoas só querem ser ouvidas, enquanto outras não sabem se manifestar de maneira segura e precisam de ajuda.\n",
        "3. Tenha empatia\n",
        "\n",
        "Colocar-se no lugar do outro também é fundamental para uma boa comunicação. Só assim conseguimos compreender o modo de pensar e até mesmo de agir dos demais. Se uma pessoa está sendo agressiva, será que é por que ela está insegura ou ansiosa? Independentemente da função que cumprem na empresa, todos merecem ser ouvidos.\n",
        "4. Escolha bem as palavras\n",
        "\n",
        "Preocupe-se sempre com a clareza de suas palavras. Conheça o seu público e o nível de entendimento dele, pois de nada adianta um vocabulário rebuscado se a mensagem não for compreendida.\n",
        "\n",
        "Sempre que possível, seja positivo e evite palavras ou expressões negativas. Suas ideias serão mais bem recebidas se você tiver uma postura construtiva mesmo diante de uma situação difícil.\n",
        "5. Preste atenção naquilo que você não diz\n",
        "\n",
        "imagem de um computador em cima de uma mesa de escritório e as mãos de um homem que está gesticulando\n",
        "Prestar atenção na comunicação não verbal também é importante (Fonte: Unsplash)\n",
        "\n",
        "A postura é tão ou mais importante do que aquilo que falamos. Mantenha a calma, respire e controle seus gestos, seu olhar e suas expressões faciais. Ter uma presença confiante e ao mesmo tempo receptiva ajuda a criar uma conexão com os demais, e as pessoas se sentem mais seguras para conversar.\n",
        "\n",
        "O curso online de Comunicação Assertiva da Alura é perfeito para quem quer ampliar o potencial comunicativo, reduzindo conflitos e frustrações. O desenvolvimento dessas habilidades interpessoais influencia de maneira positiva não apenas a carreira mas também a vida pessoal.\n",
        "\"\"\""
      ],
      "execution_count": 3,
      "outputs": []
    },
    {
      "cell_type": "code",
      "metadata": {
        "id": "NdWh6yaOv0G0",
        "colab_type": "code",
        "colab": {}
      },
      "source": [
        "from collections import Counter\n",
        "\n",
        "def analisa_frequencia_de_letras(texto):\n",
        "  aparicoes = Counter(texto0)\n",
        "  total_caracteres = sum(aparicoes.values())\n",
        "\n",
        "  proporcoes = [(letra, frequencia/total_caracteres) for letra, frequencia in aparicoes.items()]\n",
        "  proporcoes = Counter(dict(proporcoes))\n",
        "  mais_comuns = proporcoes.most_common(10)\n",
        "  for caractere, proporcao in mais_comuns:\n",
        "    print(\"{} => {:.2f}%\".format(caractere, proporcao*100))"
      ],
      "execution_count": 22,
      "outputs": []
    },
    {
      "cell_type": "code",
      "metadata": {
        "id": "OqqWPUKdwE8W",
        "colab_type": "code",
        "colab": {
          "base_uri": "https://localhost:8080/",
          "height": 191
        },
        "outputId": "df8df152-a112-4df4-9adc-f718bd52f734"
      },
      "source": [
        "analisa_frequencia_de_letras(texto0)"
      ],
      "execution_count": 23,
      "outputs": [
        {
          "output_type": "stream",
          "text": [
            "  => 15.99%\n",
            "e => 10.45%\n",
            "a => 8.06%\n",
            "o => 7.89%\n",
            "s => 5.37%\n",
            "r => 4.87%\n",
            "t => 4.62%\n",
            "m => 4.57%\n",
            "i => 4.36%\n",
            "n => 3.94%\n"
          ],
          "name": "stdout"
        }
      ]
    },
    {
      "cell_type": "code",
      "metadata": {
        "id": "7N6ObP9AycIu",
        "colab_type": "code",
        "colab": {
          "base_uri": "https://localhost:8080/",
          "height": 191
        },
        "outputId": "b0ed1cf2-924e-4037-8d2b-be2cc45c25ea"
      },
      "source": [
        "\n",
        "analisa_frequencia_de_letras(texto1)"
      ],
      "execution_count": 24,
      "outputs": [
        {
          "output_type": "stream",
          "text": [
            "  => 15.99%\n",
            "e => 10.45%\n",
            "a => 8.06%\n",
            "o => 7.89%\n",
            "s => 5.37%\n",
            "r => 4.87%\n",
            "t => 4.62%\n",
            "m => 4.57%\n",
            "i => 4.36%\n",
            "n => 3.94%\n"
          ],
          "name": "stdout"
        }
      ]
    },
    {
      "cell_type": "code",
      "metadata": {
        "id": "u-7zQFYczEHz",
        "colab_type": "code",
        "colab": {}
      },
      "source": [
        ""
      ],
      "execution_count": 24,
      "outputs": []
    }
  ]
}